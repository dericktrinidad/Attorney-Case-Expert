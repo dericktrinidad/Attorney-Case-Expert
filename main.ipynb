{
 "cells": [
  {
   "cell_type": "code",
   "execution_count": 1,
   "id": "943084eb",
   "metadata": {},
   "outputs": [
    {
     "name": "stderr",
     "output_type": "stream",
     "text": [
      "/home/cheemyubuntu/miniconda3/envs/rag/lib/python3.11/site-packages/tqdm/auto.py:21: TqdmWarning: IProgress not found. Please update jupyter and ipywidgets. See https://ipywidgets.readthedocs.io/en/stable/user_install.html\n",
      "  from .autonotebook import tqdm as notebook_tqdm\n"
     ]
    }
   ],
   "source": [
    "from utils.retriever import WeaviateRetriever\n",
    "from utils.telemetry import init_tracing, instrument_retriever"
   ]
  },
  {
   "cell_type": "code",
   "execution_count": 2,
   "id": "bc9cf7a3",
   "metadata": {},
   "outputs": [
    {
     "ename": "TypeError",
     "evalue": "TracerProvider.__init__() got an unexpected keyword argument 'project_name'",
     "output_type": "error",
     "traceback": [
      "\u001b[31m---------------------------------------------------------------------------\u001b[39m",
      "\u001b[31mTypeError\u001b[39m                                 Traceback (most recent call last)",
      "\u001b[36mCell\u001b[39m\u001b[36m \u001b[39m\u001b[32mIn[2]\u001b[39m\u001b[32m, line 1\u001b[39m\n\u001b[32m----> \u001b[39m\u001b[32m1\u001b[39m \u001b[43minit_tracing\u001b[49m\u001b[43m(\u001b[49m\u001b[43m)\u001b[49m\n",
      "\u001b[36mFile \u001b[39m\u001b[32m~/Documents/Projects/LLMS/CinemaRAG/utils/telemetry/decorators.py:20\u001b[39m, in \u001b[36minit_tracing\u001b[39m\u001b[34m(service_name, endpoint)\u001b[39m\n\u001b[32m     15\u001b[39m \u001b[38;5;28;01mdef\u001b[39;00m\u001b[38;5;250m \u001b[39m\u001b[34minit_tracing\u001b[39m(service_name: \u001b[38;5;28mstr\u001b[39m = \u001b[33m\"\u001b[39m\u001b[33mcinemaRAG-app\u001b[39m\u001b[33m\"\u001b[39m, endpoint: \u001b[38;5;28mstr\u001b[39m = \u001b[33m\"\u001b[39m\u001b[33mhttp://localhost:4317\u001b[39m\u001b[33m\"\u001b[39m):\n\u001b[32m     16\u001b[39m     \u001b[38;5;66;03m# projects = Resource.create({\"service.name\": service_name, \"project.name\": service_name})\u001b[39;00m\n\u001b[32m     17\u001b[39m     resource = Resource(attributes={\n\u001b[32m     18\u001b[39m             ResourceAttributes.PROJECT_NAME: service_name\n\u001b[32m     19\u001b[39m         })\n\u001b[32m---> \u001b[39m\u001b[32m20\u001b[39m     provider = \u001b[43mTracerProvider\u001b[49m\u001b[43m(\u001b[49m\u001b[43mproject_name\u001b[49m\u001b[43m=\u001b[49m\u001b[43mservice_name\u001b[49m\u001b[43m,\u001b[49m\u001b[43m \u001b[49m\u001b[43mresource\u001b[49m\u001b[43m=\u001b[49m\u001b[43mresource\u001b[49m\u001b[43m)\u001b[49m\n\u001b[32m     21\u001b[39m     exporter = OTLPSpanExporter(\n\u001b[32m     22\u001b[39m         endpoint=endpoint,\n\u001b[32m     23\u001b[39m         insecure=\u001b[38;5;28;01mTrue\u001b[39;00m)\n\u001b[32m     24\u001b[39m     provider.add_span_processor(BatchSpanProcessor(exporter))\n",
      "\u001b[31mTypeError\u001b[39m: TracerProvider.__init__() got an unexpected keyword argument 'project_name'"
     ]
    }
   ],
   "source": [
    "init_tracing()"
   ]
  },
  {
   "cell_type": "code",
   "execution_count": null,
   "id": "a8ef6e0f",
   "metadata": {},
   "outputs": [],
   "source": []
  },
  {
   "cell_type": "code",
   "execution_count": null,
   "id": "70b425c7",
   "metadata": {},
   "outputs": [],
   "source": [
    "\n",
    "#TODO: from utils.models import XGBRecommender, FinalLLM\n",
    "#TODO: from utils.features import to_xgb_features\n",
    "#TODO: from utils.pipelines import RecommendPipeline\n",
    "\n",
    "# Launch the Phoenix UI (listens on http://127.0.0.1:6006)\n",
    "# px.launch_app()\n",
    "@instrument_retriever(\n",
    "    name=\"test_code9\",\n",
    "    input_getter=lambda query, **_: query,\n",
    "    output_getter=lambda out: out,       # record the return value\n",
    ")\n",
    "def test_code(query):\n",
    "    wr = WeaviateRetriever()\n",
    "    out = wr.retrieve(query)\n",
    "    print(out)\n",
    "    wr.close()\n",
    "    return out\n",
    "def main():\n",
    "    query = \"space comedy adventure action\"\n",
    "    out = test_code(query)\n",
    "\n",
    "if __name__ == \"__main__\":\n",
    "    main()"
   ]
  },
  {
   "cell_type": "code",
   "execution_count": null,
   "id": "5c23a7a1",
   "metadata": {},
   "outputs": [],
   "source": []
  },
  {
   "cell_type": "code",
   "execution_count": null,
   "id": "c3369a1a",
   "metadata": {},
   "outputs": [],
   "source": []
  }
 ],
 "metadata": {
  "kernelspec": {
   "display_name": "rag",
   "language": "python",
   "name": "python3"
  },
  "language_info": {
   "codemirror_mode": {
    "name": "ipython",
    "version": 3
   },
   "file_extension": ".py",
   "mimetype": "text/x-python",
   "name": "python",
   "nbconvert_exporter": "python",
   "pygments_lexer": "ipython3",
   "version": "3.11.13"
  }
 },
 "nbformat": 4,
 "nbformat_minor": 5
}
