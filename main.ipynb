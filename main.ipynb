{
 "cells": [
  {
   "cell_type": "code",
   "execution_count": 1,
   "id": "943084eb",
   "metadata": {},
   "outputs": [
    {
     "name": "stderr",
     "output_type": "stream",
     "text": [
      "/home/cheemyubuntu/miniconda3/envs/ada/lib/python3.11/site-packages/tqdm/auto.py:21: TqdmWarning: IProgress not found. Please update jupyter and ipywidgets. See https://ipywidgets.readthedocs.io/en/stable/user_install.html\n",
      "  from .autonotebook import tqdm as notebook_tqdm\n"
     ]
    }
   ],
   "source": [
    "from utils.retriever import WeaviateRetriever\n",
    "from utils.telemetry import init_tracing, instrument_retriever, instrument_llm\n",
    "from utils.models.llm.hf_infer import HFModelManager, HFLoadConfig, GenerateConfig"
   ]
  },
  {
   "cell_type": "code",
   "execution_count": 2,
   "id": "bc9cf7a3",
   "metadata": {},
   "outputs": [],
   "source": [
    "init_tracing()"
   ]
  },
  {
   "cell_type": "code",
   "execution_count": 3,
   "id": "a5c0a978",
   "metadata": {},
   "outputs": [],
   "source": [
    "@instrument_llm(\n",
    "    name=\"test_llm\",\n",
    "    input_getter=lambda query, **_: query,\n",
    "    output_getter=lambda out: out,       # record the return value\n",
    ")\n",
    "def test_hf_model(query, model_id=\"nvidia/NVIDIA-Nemotron-Nano-9B-v2\"):\n",
    "    mgr = HFModelManager(HFLoadConfig(model_id=model_id))\n",
    "    out = mgr.make_inference(query, GenerateConfig())\n",
    "    print(out)"
   ]
  },
  {
   "cell_type": "code",
   "execution_count": 4,
   "id": "a3a3202a",
   "metadata": {},
   "outputs": [
    {
     "name": "stderr",
     "output_type": "stream",
     "text": [
      "/home/cheemyubuntu/miniconda3/envs/ada/lib/python3.11/site-packages/torch/cuda/__init__.py:129: UserWarning: CUDA initialization: Unexpected error from cudaGetDeviceCount(). Did you run some cuda functions before calling NumCudaDevices() that might have already set an error? Error 803: system has unsupported display driver / cuda driver combination (Triggered internally at ../c10/cuda/CUDAFunctions.cpp:108.)\n",
      "  return torch._C._cuda_getDeviceCount() > 0\n",
      "The 8-bit optimizer is not available on your device, only available on CUDA for now.\n",
      "/home/cheemyubuntu/miniconda3/envs/ada/lib/python3.11/site-packages/torch/cuda/__init__.py:716: UserWarning: Can't initialize NVML\n",
      "  warnings.warn(\"Can't initialize NVML\")\n",
      "Device 0 is not available, available devices are []\n"
     ]
    },
    {
     "ename": "RuntimeError",
     "evalue": "Cannot access accelerator device when none is available.",
     "output_type": "error",
     "traceback": [
      "\u001b[31m---------------------------------------------------------------------------\u001b[39m",
      "\u001b[31mRuntimeError\u001b[39m                              Traceback (most recent call last)",
      "\u001b[36mCell\u001b[39m\u001b[36m \u001b[39m\u001b[32mIn[4]\u001b[39m\u001b[32m, line 16\u001b[39m\n\u001b[32m     10\u001b[39m messages = [\n\u001b[32m     11\u001b[39m     \u001b[38;5;66;03m# {\"role\": \"system\", \"content\":\"/think\"},\u001b[39;00m\n\u001b[32m     12\u001b[39m     {\u001b[33m\"\u001b[39m\u001b[33mrole\u001b[39m\u001b[33m\"\u001b[39m: \u001b[33m\"\u001b[39m\u001b[33muser\u001b[39m\u001b[33m\"\u001b[39m, \u001b[33m\"\u001b[39m\u001b[33mcontent\u001b[39m\u001b[33m\"\u001b[39m: question}\n\u001b[32m     13\u001b[39m ]\n\u001b[32m     15\u001b[39m model_id = \u001b[33m\"\u001b[39m\u001b[33mQwen/Qwen2.5-14B-Instruct\u001b[39m\u001b[33m\"\u001b[39m\n\u001b[32m---> \u001b[39m\u001b[32m16\u001b[39m \u001b[43mtest_hf_model\u001b[49m\u001b[43m(\u001b[49m\u001b[43mmessages\u001b[49m\u001b[43m,\u001b[49m\u001b[43m \u001b[49m\u001b[43mmodel_id\u001b[49m\u001b[43m=\u001b[49m\u001b[43mmodel_id\u001b[49m\u001b[43m)\u001b[49m\n",
      "\u001b[36mFile \u001b[39m\u001b[32m~/Documents/Projects/LLMS/Attorney-Case-Expert/utils/telemetry/decorators.py:72\u001b[39m, in \u001b[36minstrument.<locals>.deco.<locals>.wrapper\u001b[39m\u001b[34m(*args, **kwargs)\u001b[39m\n\u001b[32m     69\u001b[39m     \u001b[38;5;28;01mexcept\u001b[39;00m \u001b[38;5;167;01mException\u001b[39;00m \u001b[38;5;28;01mas\u001b[39;00m e:\n\u001b[32m     70\u001b[39m         span.add_event(\u001b[33m\"\u001b[39m\u001b[33minput_getter_error\u001b[39m\u001b[33m\"\u001b[39m, {\u001b[33m\"\u001b[39m\u001b[33merror\u001b[39m\u001b[33m\"\u001b[39m: \u001b[38;5;28mrepr\u001b[39m(e)})\n\u001b[32m---> \u001b[39m\u001b[32m72\u001b[39m result = \u001b[43mfunc\u001b[49m\u001b[43m(\u001b[49m\u001b[43m*\u001b[49m\u001b[43margs\u001b[49m\u001b[43m,\u001b[49m\u001b[43m \u001b[49m\u001b[43m*\u001b[49m\u001b[43m*\u001b[49m\u001b[43mkwargs\u001b[49m\u001b[43m)\u001b[49m\n\u001b[32m     73\u001b[39m \u001b[38;5;66;03m#Log Docs\u001b[39;00m\n\u001b[32m     74\u001b[39m \u001b[38;5;28;01mif\u001b[39;00m output_getter:\n",
      "\u001b[36mCell\u001b[39m\u001b[36m \u001b[39m\u001b[32mIn[3]\u001b[39m\u001b[32m, line 8\u001b[39m, in \u001b[36mtest_hf_model\u001b[39m\u001b[34m(query, model_id)\u001b[39m\n\u001b[32m      1\u001b[39m \u001b[38;5;129m@instrument_llm\u001b[39m(\n\u001b[32m      2\u001b[39m     name=\u001b[33m\"\u001b[39m\u001b[33mtest_llm\u001b[39m\u001b[33m\"\u001b[39m,\n\u001b[32m      3\u001b[39m     input_getter=\u001b[38;5;28;01mlambda\u001b[39;00m query, **_: query,\n\u001b[32m      4\u001b[39m     output_getter=\u001b[38;5;28;01mlambda\u001b[39;00m out: out,       \u001b[38;5;66;03m# record the return value\u001b[39;00m\n\u001b[32m      5\u001b[39m )\n\u001b[32m      6\u001b[39m \u001b[38;5;28;01mdef\u001b[39;00m\u001b[38;5;250m \u001b[39m\u001b[34mtest_hf_model\u001b[39m(query, model_id=\u001b[33m\"\u001b[39m\u001b[33mnvidia/NVIDIA-Nemotron-Nano-9B-v2\u001b[39m\u001b[33m\"\u001b[39m):\n\u001b[32m      7\u001b[39m     mgr = HFModelManager(HFLoadConfig(model_id=model_id))\n\u001b[32m----> \u001b[39m\u001b[32m8\u001b[39m     out = \u001b[43mmgr\u001b[49m\u001b[43m.\u001b[49m\u001b[43mmake_inference\u001b[49m\u001b[43m(\u001b[49m\u001b[43mquery\u001b[49m\u001b[43m,\u001b[49m\u001b[43m \u001b[49m\u001b[43mGenerateConfig\u001b[49m\u001b[43m(\u001b[49m\u001b[43m)\u001b[49m\u001b[43m)\u001b[49m\n\u001b[32m      9\u001b[39m     \u001b[38;5;28mprint\u001b[39m(out)\n",
      "\u001b[36mFile \u001b[39m\u001b[32m~/Documents/Projects/LLMS/Attorney-Case-Expert/utils/models/llm/hf_infer.py:106\u001b[39m, in \u001b[36mHFModelManager.make_inference\u001b[39m\u001b[34m(self, messages_or_prompt, gen_cfg)\u001b[39m\n\u001b[32m     97\u001b[39m \u001b[38;5;28;01mdef\u001b[39;00m\u001b[38;5;250m \u001b[39m\u001b[34mmake_inference\u001b[39m(\n\u001b[32m     98\u001b[39m         \u001b[38;5;28mself\u001b[39m,\n\u001b[32m     99\u001b[39m         messages_or_prompt: Union[Messages, \u001b[38;5;28mstr\u001b[39m],\n\u001b[32m    100\u001b[39m         gen_cfg: Optional[GenerateConfig] = \u001b[38;5;28;01mNone\u001b[39;00m,\n\u001b[32m    101\u001b[39m     ) -> \u001b[38;5;28mstr\u001b[39m:\n\u001b[32m    102\u001b[39m \u001b[38;5;250m        \u001b[39m\u001b[33;03m\"\"\"\u001b[39;00m\n\u001b[32m    103\u001b[39m \u001b[33;03m        If `messages_or_prompt` is a string, it's used as-is.\u001b[39;00m\n\u001b[32m    104\u001b[39m \u001b[33;03m        If it's a list of {role, content}, we apply the model's chat_template.\u001b[39;00m\n\u001b[32m    105\u001b[39m \u001b[33;03m        \"\"\"\u001b[39;00m\n\u001b[32m--> \u001b[39m\u001b[32m106\u001b[39m         \u001b[38;5;28;43mself\u001b[39;49m\u001b[43m.\u001b[49m\u001b[43mload\u001b[49m\u001b[43m(\u001b[49m\u001b[43m)\u001b[49m\n\u001b[32m    107\u001b[39m         \u001b[38;5;28;01massert\u001b[39;00m \u001b[38;5;28mself\u001b[39m.tok \u001b[38;5;129;01mis\u001b[39;00m \u001b[38;5;129;01mnot\u001b[39;00m \u001b[38;5;28;01mNone\u001b[39;00m \u001b[38;5;129;01mand\u001b[39;00m \u001b[38;5;28mself\u001b[39m.model \u001b[38;5;129;01mis\u001b[39;00m \u001b[38;5;129;01mnot\u001b[39;00m \u001b[38;5;28;01mNone\u001b[39;00m\n\u001b[32m    109\u001b[39m         gen_cfg = gen_cfg \u001b[38;5;129;01mor\u001b[39;00m GenerateConfig()\n",
      "\u001b[36mFile \u001b[39m\u001b[32m~/Documents/Projects/LLMS/Attorney-Case-Expert/utils/models/llm/hf_infer.py:78\u001b[39m, in \u001b[36mHFModelManager.load\u001b[39m\u001b[34m(self)\u001b[39m\n\u001b[32m     70\u001b[39m     quant_cfg = BitsAndBytesConfig(\n\u001b[32m     71\u001b[39m         load_in_4bit=\u001b[38;5;28;01mTrue\u001b[39;00m,\n\u001b[32m     72\u001b[39m         bnb_4bit_compute_dtype=_to_torch_dtype(\u001b[38;5;28mself\u001b[39m.cfg.dtype) \u001b[38;5;28;01mif\u001b[39;00m \u001b[38;5;28mself\u001b[39m.cfg.dtype != \u001b[33m\"\u001b[39m\u001b[33mauto\u001b[39m\u001b[33m\"\u001b[39m \u001b[38;5;28;01melse\u001b[39;00m torch.float16,\n\u001b[32m     73\u001b[39m         bnb_4bit_use_double_quant=\u001b[38;5;28mself\u001b[39m.cfg.bnb_4bit_use_double_quant,\n\u001b[32m     74\u001b[39m         bnb_4bit_type=\u001b[38;5;28mself\u001b[39m.cfg.bnb_4bit_type,\n\u001b[32m     75\u001b[39m     )\n\u001b[32m     76\u001b[39m \u001b[38;5;28mself\u001b[39m.tok = AutoTokenizer.from_pretrained(\u001b[38;5;28mself\u001b[39m.cfg.model_id, use_fast=\u001b[38;5;28;01mTrue\u001b[39;00m)\n\u001b[32m---> \u001b[39m\u001b[32m78\u001b[39m \u001b[38;5;28mself\u001b[39m.model = \u001b[43mAutoModelForCausalLM\u001b[49m\u001b[43m.\u001b[49m\u001b[43mfrom_pretrained\u001b[49m\u001b[43m(\u001b[49m\n\u001b[32m     79\u001b[39m \u001b[43m    \u001b[49m\u001b[38;5;28;43mself\u001b[39;49m\u001b[43m.\u001b[49m\u001b[43mcfg\u001b[49m\u001b[43m.\u001b[49m\u001b[43mmodel_id\u001b[49m\u001b[43m,\u001b[49m\n\u001b[32m     80\u001b[39m \u001b[43m    \u001b[49m\u001b[38;5;66;43;03m# torch_dtype = _to_torch_dtype(self.cfg.dtype),\u001b[39;49;00m\n\u001b[32m     81\u001b[39m \u001b[43m    \u001b[49m\u001b[43mdtype\u001b[49m\u001b[43m=\u001b[49m\u001b[43m \u001b[49m\u001b[43m_to_torch_dtype\u001b[49m\u001b[43m(\u001b[49m\u001b[38;5;28;43mself\u001b[39;49m\u001b[43m.\u001b[49m\u001b[43mcfg\u001b[49m\u001b[43m.\u001b[49m\u001b[43mdtype\u001b[49m\u001b[43m)\u001b[49m\u001b[43m,\u001b[49m\n\u001b[32m     82\u001b[39m \u001b[43m    \u001b[49m\u001b[43mdevice_map\u001b[49m\u001b[43m=\u001b[49m\u001b[38;5;28;43mself\u001b[39;49m\u001b[43m.\u001b[49m\u001b[43mcfg\u001b[49m\u001b[43m.\u001b[49m\u001b[43mdevice_map\u001b[49m\u001b[43m,\u001b[49m\n\u001b[32m     83\u001b[39m \u001b[43m    \u001b[49m\u001b[43mquantization_config\u001b[49m\u001b[43m=\u001b[49m\u001b[43mquant_cfg\u001b[49m\u001b[43m,\u001b[49m\n\u001b[32m     84\u001b[39m \u001b[43m    \u001b[49m\u001b[43mlow_cpu_mem_usage\u001b[49m\u001b[43m=\u001b[49m\u001b[38;5;28;43;01mTrue\u001b[39;49;00m\u001b[43m,\u001b[49m\n\u001b[32m     85\u001b[39m \u001b[43m    \u001b[49m\u001b[43mmax_memory\u001b[49m\u001b[43m=\u001b[49m\u001b[43m{\u001b[49m\u001b[32;43m0\u001b[39;49m\u001b[43m:\u001b[49m\u001b[33;43mf\u001b[39;49m\u001b[33;43m\"\u001b[39;49m\u001b[38;5;132;43;01m{\u001b[39;49;00m\u001b[38;5;28;43mself\u001b[39;49m\u001b[43m.\u001b[49m\u001b[43mcfg\u001b[49m\u001b[43m.\u001b[49m\u001b[43mmax_memory_gib\u001b[49m\u001b[38;5;132;43;01m}\u001b[39;49;00m\u001b[33;43mGiB\u001b[39;49m\u001b[33;43m\"\u001b[39;49m\u001b[43m,\u001b[49m\u001b[43m \u001b[49m\u001b[33;43m\"\u001b[39;49m\u001b[33;43mcpu\u001b[39;49m\u001b[33;43m\"\u001b[39;49m\u001b[43m:\u001b[49m\u001b[43m \u001b[49m\u001b[33;43m\"\u001b[39;49m\u001b[33;43m64GiB\u001b[39;49m\u001b[33;43m\"\u001b[39;49m\u001b[43m}\u001b[49m\u001b[43m,\u001b[49m\n\u001b[32m     86\u001b[39m \u001b[43m    \u001b[49m\u001b[43moffload_folder\u001b[49m\u001b[43m=\u001b[49m\u001b[38;5;28;43mself\u001b[39;49m\u001b[43m.\u001b[49m\u001b[43mcfg\u001b[49m\u001b[43m.\u001b[49m\u001b[43mcpu_offload_dir\u001b[49m\u001b[43m,\u001b[49m\n\u001b[32m     87\u001b[39m \u001b[43m    \u001b[49m\u001b[43mtrust_remote_code\u001b[49m\u001b[43m=\u001b[49m\u001b[38;5;28;43mself\u001b[39;49m\u001b[43m.\u001b[49m\u001b[43mcfg\u001b[49m\u001b[43m.\u001b[49m\u001b[43mtrust_remote_code\u001b[49m\n\u001b[32m     88\u001b[39m \u001b[43m\u001b[49m\u001b[43m)\u001b[49m\n\u001b[32m     89\u001b[39m \u001b[38;5;28;01mif\u001b[39;00m \u001b[38;5;28mself\u001b[39m.cfg.use_sdpa:\n\u001b[32m     90\u001b[39m     \u001b[38;5;28;01mtry\u001b[39;00m:\n",
      "\u001b[36mFile \u001b[39m\u001b[32m~/miniconda3/envs/ada/lib/python3.11/site-packages/transformers/models/auto/auto_factory.py:604\u001b[39m, in \u001b[36m_BaseAutoModelClass.from_pretrained\u001b[39m\u001b[34m(cls, pretrained_model_name_or_path, *model_args, **kwargs)\u001b[39m\n\u001b[32m    602\u001b[39m     \u001b[38;5;28;01mif\u001b[39;00m model_class.config_class == config.sub_configs.get(\u001b[33m\"\u001b[39m\u001b[33mtext_config\u001b[39m\u001b[33m\"\u001b[39m, \u001b[38;5;28;01mNone\u001b[39;00m):\n\u001b[32m    603\u001b[39m         config = config.get_text_config()\n\u001b[32m--> \u001b[39m\u001b[32m604\u001b[39m     \u001b[38;5;28;01mreturn\u001b[39;00m \u001b[43mmodel_class\u001b[49m\u001b[43m.\u001b[49m\u001b[43mfrom_pretrained\u001b[49m\u001b[43m(\u001b[49m\n\u001b[32m    605\u001b[39m \u001b[43m        \u001b[49m\u001b[43mpretrained_model_name_or_path\u001b[49m\u001b[43m,\u001b[49m\u001b[43m \u001b[49m\u001b[43m*\u001b[49m\u001b[43mmodel_args\u001b[49m\u001b[43m,\u001b[49m\u001b[43m \u001b[49m\u001b[43mconfig\u001b[49m\u001b[43m=\u001b[49m\u001b[43mconfig\u001b[49m\u001b[43m,\u001b[49m\u001b[43m \u001b[49m\u001b[43m*\u001b[49m\u001b[43m*\u001b[49m\u001b[43mhub_kwargs\u001b[49m\u001b[43m,\u001b[49m\u001b[43m \u001b[49m\u001b[43m*\u001b[49m\u001b[43m*\u001b[49m\u001b[43mkwargs\u001b[49m\n\u001b[32m    606\u001b[39m \u001b[43m    \u001b[49m\u001b[43m)\u001b[49m\n\u001b[32m    607\u001b[39m \u001b[38;5;28;01mraise\u001b[39;00m \u001b[38;5;167;01mValueError\u001b[39;00m(\n\u001b[32m    608\u001b[39m     \u001b[33mf\u001b[39m\u001b[33m\"\u001b[39m\u001b[33mUnrecognized configuration class \u001b[39m\u001b[38;5;132;01m{\u001b[39;00mconfig.\u001b[34m__class__\u001b[39m\u001b[38;5;132;01m}\u001b[39;00m\u001b[33m for this kind of AutoModel: \u001b[39m\u001b[38;5;132;01m{\u001b[39;00m\u001b[38;5;28mcls\u001b[39m.\u001b[34m__name__\u001b[39m\u001b[38;5;132;01m}\u001b[39;00m\u001b[33m.\u001b[39m\u001b[38;5;130;01m\\n\u001b[39;00m\u001b[33m\"\u001b[39m\n\u001b[32m    609\u001b[39m     \u001b[33mf\u001b[39m\u001b[33m\"\u001b[39m\u001b[33mModel type should be one of \u001b[39m\u001b[38;5;132;01m{\u001b[39;00m\u001b[33m'\u001b[39m\u001b[33m, \u001b[39m\u001b[33m'\u001b[39m.join(c.\u001b[34m__name__\u001b[39m\u001b[38;5;250m \u001b[39m\u001b[38;5;28;01mfor\u001b[39;00m\u001b[38;5;250m \u001b[39mc\u001b[38;5;250m \u001b[39m\u001b[38;5;129;01min\u001b[39;00m\u001b[38;5;250m \u001b[39m\u001b[38;5;28mcls\u001b[39m._model_mapping)\u001b[38;5;132;01m}\u001b[39;00m\u001b[33m.\u001b[39m\u001b[33m\"\u001b[39m\n\u001b[32m    610\u001b[39m )\n",
      "\u001b[36mFile \u001b[39m\u001b[32m~/miniconda3/envs/ada/lib/python3.11/site-packages/transformers/modeling_utils.py:288\u001b[39m, in \u001b[36mrestore_default_dtype.<locals>._wrapper\u001b[39m\u001b[34m(*args, **kwargs)\u001b[39m\n\u001b[32m    286\u001b[39m old_dtype = torch.get_default_dtype()\n\u001b[32m    287\u001b[39m \u001b[38;5;28;01mtry\u001b[39;00m:\n\u001b[32m--> \u001b[39m\u001b[32m288\u001b[39m     \u001b[38;5;28;01mreturn\u001b[39;00m \u001b[43mfunc\u001b[49m\u001b[43m(\u001b[49m\u001b[43m*\u001b[49m\u001b[43margs\u001b[49m\u001b[43m,\u001b[49m\u001b[43m \u001b[49m\u001b[43m*\u001b[49m\u001b[43m*\u001b[49m\u001b[43mkwargs\u001b[49m\u001b[43m)\u001b[49m\n\u001b[32m    289\u001b[39m \u001b[38;5;28;01mfinally\u001b[39;00m:\n\u001b[32m    290\u001b[39m     torch.set_default_dtype(old_dtype)\n",
      "\u001b[36mFile \u001b[39m\u001b[32m~/miniconda3/envs/ada/lib/python3.11/site-packages/transformers/modeling_utils.py:5160\u001b[39m, in \u001b[36mPreTrainedModel.from_pretrained\u001b[39m\u001b[34m(cls, pretrained_model_name_or_path, config, cache_dir, ignore_mismatched_sizes, force_download, local_files_only, token, revision, use_safetensors, weights_only, *model_args, **kwargs)\u001b[39m\n\u001b[32m   5158\u001b[39m \u001b[38;5;66;03m# Prepare the full device map\u001b[39;00m\n\u001b[32m   5159\u001b[39m \u001b[38;5;28;01mif\u001b[39;00m device_map \u001b[38;5;129;01mis\u001b[39;00m \u001b[38;5;129;01mnot\u001b[39;00m \u001b[38;5;28;01mNone\u001b[39;00m:\n\u001b[32m-> \u001b[39m\u001b[32m5160\u001b[39m     device_map = \u001b[43m_get_device_map\u001b[49m\u001b[43m(\u001b[49m\u001b[43mmodel\u001b[49m\u001b[43m,\u001b[49m\u001b[43m \u001b[49m\u001b[43mdevice_map\u001b[49m\u001b[43m,\u001b[49m\u001b[43m \u001b[49m\u001b[43mmax_memory\u001b[49m\u001b[43m,\u001b[49m\u001b[43m \u001b[49m\u001b[43mhf_quantizer\u001b[49m\u001b[43m,\u001b[49m\u001b[43m \u001b[49m\u001b[43mdtype\u001b[49m\u001b[43m,\u001b[49m\u001b[43m \u001b[49m\u001b[43mkeep_in_fp32_regex\u001b[49m\u001b[43m)\u001b[49m\n\u001b[32m   5162\u001b[39m \u001b[38;5;66;03m# Finalize model weight initialization\u001b[39;00m\n\u001b[32m   5163\u001b[39m \u001b[38;5;28;01mif\u001b[39;00m from_tf:\n",
      "\u001b[36mFile \u001b[39m\u001b[32m~/miniconda3/envs/ada/lib/python3.11/site-packages/transformers/modeling_utils.py:1444\u001b[39m, in \u001b[36m_get_device_map\u001b[39m\u001b[34m(model, device_map, max_memory, hf_quantizer, dtype, keep_in_fp32_regex)\u001b[39m\n\u001b[32m   1438\u001b[39m     logger.warning(\n\u001b[32m   1439\u001b[39m         \u001b[33m\"\u001b[39m\u001b[33mThis model has some weights that should be kept in higher precision, you need to upgrade \u001b[39m\u001b[33m\"\u001b[39m\n\u001b[32m   1440\u001b[39m         \u001b[33m\"\u001b[39m\u001b[33m`accelerate` to properly deal with them (`pip install --upgrade accelerate`).\u001b[39m\u001b[33m\"\u001b[39m\n\u001b[32m   1441\u001b[39m     )\n\u001b[32m   1443\u001b[39m \u001b[38;5;28;01mif\u001b[39;00m device_map != \u001b[33m\"\u001b[39m\u001b[33msequential\u001b[39m\u001b[33m\"\u001b[39m:\n\u001b[32m-> \u001b[39m\u001b[32m1444\u001b[39m     inferred_max_memory = \u001b[43mget_balanced_memory\u001b[49m\u001b[43m(\u001b[49m\n\u001b[32m   1445\u001b[39m \u001b[43m        \u001b[49m\u001b[43mmodel\u001b[49m\u001b[43m,\u001b[49m\n\u001b[32m   1446\u001b[39m \u001b[43m        \u001b[49m\u001b[43mdtype\u001b[49m\u001b[43m=\u001b[49m\u001b[43mtarget_dtype\u001b[49m\u001b[43m,\u001b[49m\n\u001b[32m   1447\u001b[39m \u001b[43m        \u001b[49m\u001b[43mlow_zero\u001b[49m\u001b[43m=\u001b[49m\u001b[43m(\u001b[49m\u001b[43mdevice_map\u001b[49m\u001b[43m \u001b[49m\u001b[43m==\u001b[49m\u001b[43m \u001b[49m\u001b[33;43m\"\u001b[39;49m\u001b[33;43mbalanced_low_0\u001b[39;49m\u001b[33;43m\"\u001b[39;49m\u001b[43m)\u001b[49m\u001b[43m,\u001b[49m\n\u001b[32m   1448\u001b[39m \u001b[43m        \u001b[49m\u001b[43mmax_memory\u001b[49m\u001b[43m=\u001b[49m\u001b[43mmax_memory\u001b[49m\u001b[43m,\u001b[49m\n\u001b[32m   1449\u001b[39m \u001b[43m        \u001b[49m\u001b[43m*\u001b[49m\u001b[43m*\u001b[49m\u001b[43mdevice_map_kwargs\u001b[49m\u001b[43m,\u001b[49m\n\u001b[32m   1450\u001b[39m \u001b[43m    \u001b[49m\u001b[43m)\u001b[49m\n\u001b[32m   1451\u001b[39m \u001b[38;5;28;01melse\u001b[39;00m:\n\u001b[32m   1452\u001b[39m     inferred_max_memory = get_max_memory(max_memory)\n",
      "\u001b[36mFile \u001b[39m\u001b[32m~/miniconda3/envs/ada/lib/python3.11/site-packages/accelerate/utils/modeling.py:991\u001b[39m, in \u001b[36mget_balanced_memory\u001b[39m\u001b[34m(model, max_memory, no_split_module_classes, dtype, special_dtypes, low_zero)\u001b[39m\n\u001b[32m    989\u001b[39m \u001b[38;5;28;01melse\u001b[39;00m:\n\u001b[32m    990\u001b[39m     expected_device_type = \u001b[33m\"\u001b[39m\u001b[33mcuda\u001b[39m\u001b[33m\"\u001b[39m\n\u001b[32m--> \u001b[39m\u001b[32m991\u001b[39m num_devices = \u001b[38;5;28mlen\u001b[39m(\u001b[43m[\u001b[49m\u001b[43md\u001b[49m\u001b[43m \u001b[49m\u001b[38;5;28;43;01mfor\u001b[39;49;00m\u001b[43m \u001b[49m\u001b[43md\u001b[49m\u001b[43m \u001b[49m\u001b[38;5;129;43;01min\u001b[39;49;00m\u001b[43m \u001b[49m\u001b[43mmax_memory\u001b[49m\u001b[43m \u001b[49m\u001b[38;5;28;43;01mif\u001b[39;49;00m\u001b[43m \u001b[49m\u001b[43mtorch\u001b[49m\u001b[43m.\u001b[49m\u001b[43mdevice\u001b[49m\u001b[43m(\u001b[49m\u001b[43md\u001b[49m\u001b[43m)\u001b[49m\u001b[43m.\u001b[49m\u001b[43mtype\u001b[49m\u001b[43m \u001b[49m\u001b[43m==\u001b[49m\u001b[43m \u001b[49m\u001b[43mexpected_device_type\u001b[49m\u001b[43m \u001b[49m\u001b[38;5;129;43;01mand\u001b[39;49;00m\u001b[43m \u001b[49m\u001b[43mmax_memory\u001b[49m\u001b[43m[\u001b[49m\u001b[43md\u001b[49m\u001b[43m]\u001b[49m\u001b[43m \u001b[49m\u001b[43m>\u001b[49m\u001b[43m \u001b[49m\u001b[32;43m0\u001b[39;49m\u001b[43m]\u001b[49m)\n\u001b[32m    993\u001b[39m \u001b[38;5;28;01mif\u001b[39;00m num_devices == \u001b[32m0\u001b[39m:\n\u001b[32m    994\u001b[39m     \u001b[38;5;28;01mreturn\u001b[39;00m max_memory\n",
      "\u001b[36mFile \u001b[39m\u001b[32m~/miniconda3/envs/ada/lib/python3.11/site-packages/accelerate/utils/modeling.py:991\u001b[39m, in \u001b[36m<listcomp>\u001b[39m\u001b[34m(.0)\u001b[39m\n\u001b[32m    989\u001b[39m \u001b[38;5;28;01melse\u001b[39;00m:\n\u001b[32m    990\u001b[39m     expected_device_type = \u001b[33m\"\u001b[39m\u001b[33mcuda\u001b[39m\u001b[33m\"\u001b[39m\n\u001b[32m--> \u001b[39m\u001b[32m991\u001b[39m num_devices = \u001b[38;5;28mlen\u001b[39m([d \u001b[38;5;28;01mfor\u001b[39;00m d \u001b[38;5;129;01min\u001b[39;00m max_memory \u001b[38;5;28;01mif\u001b[39;00m \u001b[43mtorch\u001b[49m\u001b[43m.\u001b[49m\u001b[43mdevice\u001b[49m\u001b[43m(\u001b[49m\u001b[43md\u001b[49m\u001b[43m)\u001b[49m.type == expected_device_type \u001b[38;5;129;01mand\u001b[39;00m max_memory[d] > \u001b[32m0\u001b[39m])\n\u001b[32m    993\u001b[39m \u001b[38;5;28;01mif\u001b[39;00m num_devices == \u001b[32m0\u001b[39m:\n\u001b[32m    994\u001b[39m     \u001b[38;5;28;01mreturn\u001b[39;00m max_memory\n",
      "\u001b[31mRuntimeError\u001b[39m: Cannot access accelerator device when none is available."
     ]
    }
   ],
   "source": [
    "question = (\n",
    "        \"Answer with ONLY an integer. Do not add words, symbols, or punctuation.\"\n",
    "        \"Examples:\\n\"\n",
    "        \"How many times does the letter 'r' appear in the word 'strawberry'? Answer: 3\\n\"\n",
    "        \"How many times does the letter 'o' appear in the word 'book'? Answer: 2\\n\"\n",
    "        \"How many 'a's in banana? Answer: 3\\n\"\n",
    "        \"Query: How many times does the letter 'e' appear in the word 'cheesecake'?\\n\"\n",
    "        \"Answer with only the integer.\"\n",
    "    )\n",
    "messages = [\n",
    "    # {\"role\": \"system\", \"content\":\"/think\"},\n",
    "    {\"role\": \"user\", \"content\": question}\n",
    "]\n",
    "\n",
    "model_id = \"Qwen/Qwen2.5-14B-Instruct\"\n",
    "test_hf_model(messages, model_id=model_id)"
   ]
  },
  {
   "cell_type": "code",
   "execution_count": 5,
   "id": "70b425c7",
   "metadata": {},
   "outputs": [
    {
     "name": "stderr",
     "output_type": "stream",
     "text": [
      "/home/cheemyubuntu/miniconda3/envs/rag/lib/python3.11/site-packages/transformers/tokenization_utils_base.py:1617: FutureWarning: `clean_up_tokenization_spaces` was not set. It will be set to `True` by default. This behavior will be deprecated in transformers v4.45, and will be then set to `False` by default. For more details check this issue: https://github.com/huggingface/transformers/issues/31884\n",
      "  warnings.warn(\n"
     ]
    },
    {
     "name": "stdout",
     "output_type": "stream",
     "text": [
      "✅ Connected to Weaviate client\n",
      "[{'title': 'Space Jungle', 'description': 'A broken spaceship strands four very tiny aliens on Earth, where they discover an adventure (and strange dangers!) that they never expected.', 'type': 'TV Show', 'director': '', 'cast': 'Kim Min-hee, Park Yoon-hee, Sun Sung-wook', 'country': '', 'release_year': 2016, 'rating': 'TV-Y', 'duration': '2 Seasons', 'listed_in': \"Kids' TV, Korean TV Shows, TV Comedies\", '_score': 0.3999999761581421}, {'title': 'Black Space', 'description': 'A rogue detective with unorthodox means leads an investigation into a massacre committed by unicorn mask-wearing assassins at an Israeli high school.', 'type': 'TV Show', 'director': '', 'cast': 'Guri Alfi, Shai Avivi, Assi Levy, Reut Alush, Meirav Shirom, Yoav Rotman, Liana Ayoun, Noam Karmeli, Hadas Jade Sakori, Yehonatan Vilozny, Gily Itskovitch, Oneg Efron, Suzanna Papian, Ori Biton, Nir Hasdai, Leib Lev Levin, Eyal Shikratzi', 'country': 'Israel', 'release_year': 2021, 'rating': 'TV-MA', 'duration': '1 Season', 'listed_in': 'Crime TV Shows, International TV Shows, TV Dramas', '_score': 0.3020704686641693}, {'title': 'Space Cowboys', 'description': 'A retired engineer agrees to help NASA prevent a Russian satellite from falling to Earth if he and his over-the-hill pals can man the mission.', 'type': 'Movie', 'director': 'Clint Eastwood', 'cast': 'Clint Eastwood, Tommy Lee Jones, Donald Sutherland, James Garner, James Cromwell, Marcia Gay Harden, William Devane, Loren Dean, Courtney B. Vance, Rade Serbedzija, Barbara Babcock, Blair Brown', 'country': 'United States', 'release_year': 2000, 'rating': 'PG-13', 'duration': '130 min', 'listed_in': 'Action & Adventure, Dramas, Sci-Fi & Fantasy', '_score': 0.3020704686641693}, {'title': 'Lost in Space', 'description': \"After crash-landing on an alien planet, the Robinson family fights against all odds to survive and escape. But they're surrounded by hidden dangers.\", 'type': 'TV Show', 'director': '', 'cast': 'Molly Parker, Toby Stephens, Max Jenkins, Taylor Russell, Mina Sundwall, Parker Posey, Ignacio Serricchio', 'country': 'United States', 'release_year': 2019, 'rating': 'TV-PG', 'duration': '2 Seasons', 'listed_in': 'TV Action & Adventure, TV Dramas, TV Sci-Fi & Fantasy', '_score': 0.2453460991382599}, {'title': 'Power Rangers in Space', 'description': \"With the Power Chamber destroyed, former Turbo Power Rangers T.J., Cassie, Carlos and Ashley search for Zordon, who's been abducted by Dark Specter.\", 'type': 'TV Show', 'director': '', 'cast': 'Tracy Lynn Cruz, Patricia Ja Lee, Christopher Khayman Lee, Justin Nimmo, Roger Velasco, Selwyn Ward, Melody Perkins, Paul Schrier, Jason Narvy, Mioko Fujiwara, Soichiro Hoshi, Yuji Kishimoto, Sanae Kobayashi, Tsuyoshi Takishita, Lex Lang', 'country': 'United States, France, Japan', 'release_year': 1998, 'rating': 'TV-Y7', 'duration': '1 Season', 'listed_in': \"Kids' TV\", '_score': 0.197698175907135}, {'title': 'Pocoyo & The Space Circus', 'description': 'Acrobatic aliens arrive on spaceships and perform for everyone, but when angry aliens arrive as well, Pocoyo and his friends must now put on a show.', 'type': 'Movie', 'director': 'Alfonso Rodríguez', 'cast': 'Stephen Fry, Carys Doyle', 'country': 'Spain', 'release_year': 2008, 'rating': 'TV-Y', 'duration': '25 min', 'listed_in': 'Movies', '_score': 0.197698175907135}, {'title': 'A Year In Space', 'description': \"Two astronauts attempt to brave a life in Earth's orbit on a record-setting mission to see if humans have the endurance to survive a flight to Mars.\", 'type': 'TV Show', 'director': '', 'cast': 'Scott Kelly', 'country': 'United States', 'release_year': 2015, 'rating': 'TV-PG', 'duration': '1 Season', 'listed_in': 'Docuseries, International TV Shows, Science & Nature TV', '_score': 0.197698175907135}, {'title': 'The Space Between Us', 'description': 'After years of limited contact with Earth, an inquisitive teen who lives on Mars makes an interplanetary trek to discover his own origins.', 'type': 'Movie', 'director': 'Peter Chelsom', 'cast': 'Gary Oldman, Asa Butterfield, Carla Gugino, Britt Robertson, BD Wong, Janet Montgomery, Trey Tucker', 'country': 'United States', 'release_year': 2016, 'rating': 'PG-13', 'duration': '120 min', 'listed_in': 'Action & Adventure, Romantic Movies, Sci-Fi & Fantasy', '_score': 0.197698175907135}, {'title': 'Alien Contact: Outer Space', 'description': \"This fact-based account delves into humankind's efforts to gather signals from possible intelligent beings beyond the solar system.\", 'type': 'Movie', 'director': 'J. Michael Long', 'cast': 'J. Michael Long', 'country': 'United States', 'release_year': 2017, 'rating': 'TV-PG', 'duration': '63 min', 'listed_in': 'Documentaries', '_score': 0.197698175907135}, {'title': 'Gagarin: First in Space', 'description': 'This biopic of Russian cosmonaut Yuri Gagarin follows his rise from childhood poverty to his selection and training for the 1961 Vostok mission.', 'type': 'Movie', 'director': 'Pavel Parkhomenko', 'cast': 'Yaroslav Zhalnin, Mikhail Filippov, Olga Ivanova, Vadim Michman, Vladimir Steklov, Viktor Proskurin, Nadezhda Markina, Daniil Vorobyov', 'country': 'Russia', 'release_year': 2013, 'rating': 'TV-14', 'duration': '108 min', 'listed_in': 'Dramas, International Movies', '_score': 0.197698175907135}]\n"
     ]
    }
   ],
   "source": [
    "\n",
    "#TODO: from utils.models import XGBRecommender, FinalLLM\n",
    "#TODO: from utils.features import to_xgb_features\n",
    "#TODO: from utils.pipelines import RecommendPipeline\n",
    "\n",
    "# Launch the Phoenix UI (listens on http://127.0.0.1:6006)\n",
    "# px.launch_app()\n",
    "@instrument_retriever(\n",
    "    name=\"test_code9\",\n",
    "    input_getter=lambda query, **_: query,\n",
    "    output_getter=lambda out: out,       # record the return value\n",
    ")\n",
    "def test_code(query):\n",
    "    wr = WeaviateRetriever()\n",
    "    out = wr.retrieve(query)\n",
    "    print(out)\n",
    "    wr.close()\n",
    "    return out\n",
    "def main():\n",
    "    query = \"space comedy adventure action\"\n",
    "    out = test_code(query)\n",
    "\n",
    "if __name__ == \"__main__\":\n",
    "    main()"
   ]
  },
  {
   "cell_type": "code",
   "execution_count": null,
   "id": "5c23a7a1",
   "metadata": {},
   "outputs": [],
   "source": []
  },
  {
   "cell_type": "code",
   "execution_count": null,
   "id": "c3369a1a",
   "metadata": {},
   "outputs": [],
   "source": []
  }
 ],
 "metadata": {
  "kernelspec": {
   "display_name": "ada",
   "language": "python",
   "name": "python3"
  },
  "language_info": {
   "codemirror_mode": {
    "name": "ipython",
    "version": 3
   },
   "file_extension": ".py",
   "mimetype": "text/x-python",
   "name": "python",
   "nbconvert_exporter": "python",
   "pygments_lexer": "ipython3",
   "version": "3.11.13"
  }
 },
 "nbformat": 4,
 "nbformat_minor": 5
}
