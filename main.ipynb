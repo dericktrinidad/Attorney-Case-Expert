{
 "cells": [
  {
   "cell_type": "code",
   "execution_count": 1,
   "id": "943084eb",
   "metadata": {},
   "outputs": [
    {
     "name": "stderr",
     "output_type": "stream",
     "text": [
      "/home/cheemyubuntu/miniconda3/envs/rag/lib/python3.11/site-packages/tqdm/auto.py:21: TqdmWarning: IProgress not found. Please update jupyter and ipywidgets. See https://ipywidgets.readthedocs.io/en/stable/user_install.html\n",
      "  from .autonotebook import tqdm as notebook_tqdm\n"
     ]
    }
   ],
   "source": [
    "from utils.retriever import WeaviateRetriever\n",
    "from utils.telemetry import init_tracing, instrument_retriever"
   ]
  },
  {
   "cell_type": "code",
   "execution_count": 2,
   "id": "bc9cf7a3",
   "metadata": {},
   "outputs": [],
   "source": [
    "init_tracing()"
   ]
  },
  {
   "cell_type": "code",
   "execution_count": null,
   "id": "a8ef6e0f",
   "metadata": {},
   "outputs": [],
   "source": []
  },
  {
   "cell_type": "code",
   "execution_count": 3,
   "id": "70b425c7",
   "metadata": {},
   "outputs": [
    {
     "name": "stderr",
     "output_type": "stream",
     "text": [
      "/home/cheemyubuntu/miniconda3/envs/rag/lib/python3.11/site-packages/transformers/tokenization_utils_base.py:1617: FutureWarning: `clean_up_tokenization_spaces` was not set. It will be set to `True` by default. This behavior will be deprecated in transformers v4.45, and will be then set to `False` by default. For more details check this issue: https://github.com/huggingface/transformers/issues/31884\n",
      "  warnings.warn(\n"
     ]
    },
    {
     "name": "stdout",
     "output_type": "stream",
     "text": [
      "✅ Connected to Weaviate client\n",
      "[{'title': 'Space Jungle', 'description': 'A broken spaceship strands four very tiny aliens on Earth, where they discover an adventure (and strange dangers!) that they never expected.', 'type': 'TV Show', 'director': '', 'cast': 'Kim Min-hee, Park Yoon-hee, Sun Sung-wook', 'country': '', 'release_year': 2016, 'rating': 'TV-Y', 'duration': '2 Seasons', 'listed_in': \"Kids' TV, Korean TV Shows, TV Comedies\", '_score': 0.3999999761581421}, {'title': 'Space Cowboys', 'description': 'A retired engineer agrees to help NASA prevent a Russian satellite from falling to Earth if he and his over-the-hill pals can man the mission.', 'type': 'Movie', 'director': 'Clint Eastwood', 'cast': 'Clint Eastwood, Tommy Lee Jones, Donald Sutherland, James Garner, James Cromwell, Marcia Gay Harden, William Devane, Loren Dean, Courtney B. Vance, Rade Serbedzija, Barbara Babcock, Blair Brown', 'country': 'United States', 'release_year': 2000, 'rating': 'PG-13', 'duration': '130 min', 'listed_in': 'Action & Adventure, Dramas, Sci-Fi & Fantasy', '_score': 0.3020704686641693}, {'title': 'Black Space', 'description': 'A rogue detective with unorthodox means leads an investigation into a massacre committed by unicorn mask-wearing assassins at an Israeli high school.', 'type': 'TV Show', 'director': '', 'cast': 'Guri Alfi, Shai Avivi, Assi Levy, Reut Alush, Meirav Shirom, Yoav Rotman, Liana Ayoun, Noam Karmeli, Hadas Jade Sakori, Yehonatan Vilozny, Gily Itskovitch, Oneg Efron, Suzanna Papian, Ori Biton, Nir Hasdai, Leib Lev Levin, Eyal Shikratzi', 'country': 'Israel', 'release_year': 2021, 'rating': 'TV-MA', 'duration': '1 Season', 'listed_in': 'Crime TV Shows, International TV Shows, TV Dramas', '_score': 0.3020704686641693}, {'title': 'Lost in Space', 'description': \"After crash-landing on an alien planet, the Robinson family fights against all odds to survive and escape. But they're surrounded by hidden dangers.\", 'type': 'TV Show', 'director': '', 'cast': 'Molly Parker, Toby Stephens, Max Jenkins, Taylor Russell, Mina Sundwall, Parker Posey, Ignacio Serricchio', 'country': 'United States', 'release_year': 2019, 'rating': 'TV-PG', 'duration': '2 Seasons', 'listed_in': 'TV Action & Adventure, TV Dramas, TV Sci-Fi & Fantasy', '_score': 0.2453460991382599}, {'title': 'A Year In Space', 'description': \"Two astronauts attempt to brave a life in Earth's orbit on a record-setting mission to see if humans have the endurance to survive a flight to Mars.\", 'type': 'TV Show', 'director': '', 'cast': 'Scott Kelly', 'country': 'United States', 'release_year': 2015, 'rating': 'TV-PG', 'duration': '1 Season', 'listed_in': 'Docuseries, International TV Shows, Science & Nature TV', '_score': 0.197698175907135}, {'title': 'Power Rangers in Space', 'description': \"With the Power Chamber destroyed, former Turbo Power Rangers T.J., Cassie, Carlos and Ashley search for Zordon, who's been abducted by Dark Specter.\", 'type': 'TV Show', 'director': '', 'cast': 'Tracy Lynn Cruz, Patricia Ja Lee, Christopher Khayman Lee, Justin Nimmo, Roger Velasco, Selwyn Ward, Melody Perkins, Paul Schrier, Jason Narvy, Mioko Fujiwara, Soichiro Hoshi, Yuji Kishimoto, Sanae Kobayashi, Tsuyoshi Takishita, Lex Lang', 'country': 'United States, France, Japan', 'release_year': 1998, 'rating': 'TV-Y7', 'duration': '1 Season', 'listed_in': \"Kids' TV\", '_score': 0.197698175907135}, {'title': 'The Space Between Us', 'description': 'After years of limited contact with Earth, an inquisitive teen who lives on Mars makes an interplanetary trek to discover his own origins.', 'type': 'Movie', 'director': 'Peter Chelsom', 'cast': 'Gary Oldman, Asa Butterfield, Carla Gugino, Britt Robertson, BD Wong, Janet Montgomery, Trey Tucker', 'country': 'United States', 'release_year': 2016, 'rating': 'PG-13', 'duration': '120 min', 'listed_in': 'Action & Adventure, Romantic Movies, Sci-Fi & Fantasy', '_score': 0.197698175907135}, {'title': 'Gagarin: First in Space', 'description': 'This biopic of Russian cosmonaut Yuri Gagarin follows his rise from childhood poverty to his selection and training for the 1961 Vostok mission.', 'type': 'Movie', 'director': 'Pavel Parkhomenko', 'cast': 'Yaroslav Zhalnin, Mikhail Filippov, Olga Ivanova, Vadim Michman, Vladimir Steklov, Viktor Proskurin, Nadezhda Markina, Daniil Vorobyov', 'country': 'Russia', 'release_year': 2013, 'rating': 'TV-14', 'duration': '108 min', 'listed_in': 'Dramas, International Movies', '_score': 0.197698175907135}, {'title': 'Alien Contact: Outer Space', 'description': \"This fact-based account delves into humankind's efforts to gather signals from possible intelligent beings beyond the solar system.\", 'type': 'Movie', 'director': 'J. Michael Long', 'cast': 'J. Michael Long', 'country': 'United States', 'release_year': 2017, 'rating': 'TV-PG', 'duration': '63 min', 'listed_in': 'Documentaries', '_score': 0.197698175907135}, {'title': 'Pocoyo & The Space Circus', 'description': 'Acrobatic aliens arrive on spaceships and perform for everyone, but when angry aliens arrive as well, Pocoyo and his friends must now put on a show.', 'type': 'Movie', 'director': 'Alfonso Rodríguez', 'cast': 'Stephen Fry, Carys Doyle', 'country': 'Spain', 'release_year': 2008, 'rating': 'TV-Y', 'duration': '25 min', 'listed_in': 'Movies', '_score': 0.197698175907135}]\n"
     ]
    }
   ],
   "source": [
    "\n",
    "#TODO: from utils.models import XGBRecommender, FinalLLM\n",
    "#TODO: from utils.features import to_xgb_features\n",
    "#TODO: from utils.pipelines import RecommendPipeline\n",
    "\n",
    "# Launch the Phoenix UI (listens on http://127.0.0.1:6006)\n",
    "# px.launch_app()\n",
    "@instrument_retriever(\n",
    "    name=\"test_code9\",\n",
    "    input_getter=lambda query, **_: query,\n",
    "    output_getter=lambda out: out,       # record the return value\n",
    ")\n",
    "def test_code(query):\n",
    "    wr = WeaviateRetriever()\n",
    "    out = wr.retrieve(query)\n",
    "    print(out)\n",
    "    wr.close()\n",
    "    return out\n",
    "def main():\n",
    "    query = \"space comedy adventure action\"\n",
    "    out = test_code(query)\n",
    "\n",
    "if __name__ == \"__main__\":\n",
    "    main()"
   ]
  },
  {
   "cell_type": "code",
   "execution_count": null,
   "id": "5c23a7a1",
   "metadata": {},
   "outputs": [],
   "source": []
  },
  {
   "cell_type": "code",
   "execution_count": null,
   "id": "c3369a1a",
   "metadata": {},
   "outputs": [],
   "source": []
  }
 ],
 "metadata": {
  "kernelspec": {
   "display_name": "rag",
   "language": "python",
   "name": "python3"
  },
  "language_info": {
   "codemirror_mode": {
    "name": "ipython",
    "version": 3
   },
   "file_extension": ".py",
   "mimetype": "text/x-python",
   "name": "python",
   "nbconvert_exporter": "python",
   "pygments_lexer": "ipython3",
   "version": "3.11.13"
  }
 },
 "nbformat": 4,
 "nbformat_minor": 5
}
