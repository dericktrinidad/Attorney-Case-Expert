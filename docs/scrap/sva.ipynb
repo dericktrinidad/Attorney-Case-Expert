{
 "cells": [
  {
   "cell_type": "code",
   "execution_count": 1,
   "id": "b175977b",
   "metadata": {},
   "outputs": [],
   "source": [
    "# apple_samsung_docket_2012_630.py\n",
    "import os, time, requests\n",
    "from typing import Optional, Dict, Any, List\n"
   ]
  },
  {
   "cell_type": "code",
   "execution_count": 2,
   "id": "c6155367",
   "metadata": {},
   "outputs": [],
   "source": [
    "\n",
    "BASE = \"https://www.courtlistener.com/api/rest/v4\"\n",
    "TOKEN = \"4cd64f7c2c009657cfa3133893d1cd846cfa7050\"\n",
    "if not TOKEN:\n",
    "    raise SystemExit(\"Set COURTLISTENER_TOKEN in your environment.\")\n",
    "H = {\"Authorization\": f\"Token {TOKEN}\"}\n",
    "\n",
    "def get_json(url: str, retries: int = 3, backoff: float = 1.0) -> Dict[str, Any]:\n",
    "    for attempt in range(retries):\n",
    "        try:\n",
    "            r = requests.get(url, headers=H, timeout=60)\n",
    "            if r.status_code in (502, 503, 504):  # transient upstream\n",
    "                raise requests.HTTPError(f\"{r.status_code} upstream\")\n",
    "            r.raise_for_status()\n",
    "            return r.json()\n",
    "        except requests.RequestException as e:\n",
    "            if attempt == retries - 1:\n",
    "                raise\n",
    "            time.sleep(backoff * (2 ** attempt))\n",
    "    raise RuntimeError(\"unreachable\")\n",
    "\n",
    "def find_docket_by_number(court: str, docket_number: str) -> Optional[Dict[str, Any]]:\n",
    "    # Filter by court + exact docket number\n",
    "    # Tip: docket_number is stored normalized by CourtListener; this exact string works for this case.\n",
    "    url = f\"{BASE}/dockets/?court={court}&docket_number={requests.utils.quote(docket_number)}\"\n",
    "    j = get_json(url)\n",
    "    results = j.get(\"results\", [])\n",
    "    return results[0] if results else None\n",
    "\n",
    "def fetch_docket_entries(docket_id: int, limit_pages: int = 200) -> List[Dict[str, Any]]:\n",
    "    url = f\"{BASE}/docket-entries/?docket={docket_id}&order_by=date_filed\"\n",
    "    out, pages = [], 0\n",
    "    while url and pages < limit_pages:\n",
    "        j = get_json(url)\n",
    "        out.extend(j.get(\"results\", []))\n",
    "        url = j.get(\"next\")\n",
    "        pages += 1\n",
    "        time.sleep(0.2)\n",
    "    return out\n",
    "\n",
    "\n"
   ]
  },
  {
   "cell_type": "code",
   "execution_count": null,
   "id": "aaaea545",
   "metadata": {},
   "outputs": [
    {
     "ename": "SyntaxError",
     "evalue": "f-string expression part cannot include a backslash (2803797826.py, line 27)",
     "output_type": "error",
     "traceback": [
      "  \u001b[36mCell\u001b[39m\u001b[36m \u001b[39m\u001b[32mIn[5]\u001b[39m\u001b[32m, line 27\u001b[39m\n\u001b[31m    \u001b[39m\u001b[31mprint(f\"\"\"  description: {desc[:200].replace('\\n',' ')}\"\"\")\u001b[39m\n                                                              ^\n\u001b[31mSyntaxError\u001b[39m\u001b[31m:\u001b[39m f-string expression part cannot include a backslash\n"
     ]
    }
   ],
   "source": [
    "if __name__ == \"__main__\":\n",
    "    COURT = \"cand\"                          # N.D. Cal.\n",
    "    NUMBER = \"5:12-cv-00630\"                # Apple v. Samsung (2012 case)\n",
    "\n",
    "    print(f\"Looking up docket {NUMBER} in court {COURT} …\")\n",
    "    docket = find_docket_by_number(COURT, NUMBER)\n",
    "    if not docket:\n",
    "        raise SystemExit(\"❌ Docket not found. Double-check court code and docket number.\")\n",
    "\n",
    "    print(\"✅ Found docket:\")\n",
    "    print(f\"  id:           {docket['id']}\")\n",
    "    print(f\"  case_name:    {docket.get('case_name')}\")\n",
    "    print(f\"  docket_num:   {docket.get('docket_number')}\")\n",
    "    print(f\"  court:        {docket.get('court')}\")\n",
    "    print(f\"  url:          https://www.courtlistener.com{docket.get('absolute_url','')}\")\n",
    "\n",
    "    print(\"\\nFetching docket entries …\")\n",
    "    entries = fetch_docket_entries(docket[\"id\"])\n",
    "    print(f\"✅ Retrieved {len(entries)} entries\")\n",
    "\n",
    "    # Show a few sample rows\n",
    "    for i, de in enumerate(entries[:5], 1):\n",
    "        desc = de.get(\"description\") or de.get(\"entry_text\") or \"(no description)\"\n",
    "        date = de.get(\"date_filed\") or \"unknown\"\n",
    "        print(f\"\\nEntry {i}:\")\n",
    "        print(f\"  date_filed:  {date}\")\n",
    "        description = desc[:200].replace('\\\\n',' ')\n",
    "        print(f\"\"\"  description: {description}\"\"\")\n",
    "\n",
    "    # If you want nested RECAP documents (often includes plain text):\n",
    "    def extract_text_snippets(entry: Dict[str, Any], max_docs: int = 2) -> List[str]:\n",
    "        recaps = entry.get(\"recap_documents\") or entry.get(\"recap_document\") or []\n",
    "        if isinstance(recaps, dict):\n",
    "            recaps = [recaps]\n",
    "        out = []\n",
    "        for rd in recaps[:max_docs]:\n",
    "            txt = rd.get(\"plain_text\") or \"\"\n",
    "            if txt:\n",
    "                out.append(txt[:400])\n",
    "        return out\n",
    "\n",
    "    # Example: show text snippets (if available) from the first entry with RECAP docs\n",
    "    for de in entries:\n",
    "        snippets = extract_text_snippets(de)\n",
    "        if snippets:\n",
    "            print(\"\\n🔎 Sample RECAP text snippet:\")\n",
    "            print(snippets[0])\n",
    "            break"
   ]
  },
  {
   "cell_type": "code",
   "execution_count": null,
   "id": "7ce6ec10",
   "metadata": {},
   "outputs": [],
   "source": []
  },
  {
   "cell_type": "code",
   "execution_count": null,
   "id": "c36dcde1",
   "metadata": {},
   "outputs": [],
   "source": []
  }
 ],
 "metadata": {
  "kernelspec": {
   "display_name": "ada",
   "language": "python",
   "name": "python3"
  },
  "language_info": {
   "codemirror_mode": {
    "name": "ipython",
    "version": 3
   },
   "file_extension": ".py",
   "mimetype": "text/x-python",
   "name": "python",
   "nbconvert_exporter": "python",
   "pygments_lexer": "ipython3",
   "version": "3.11.13"
  }
 },
 "nbformat": 4,
 "nbformat_minor": 5
}
